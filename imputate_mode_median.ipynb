{
 "cells": [
  {
   "cell_type": "markdown",
   "id": "ee2e003b",
   "metadata": {},
   "source": [
    ". processing data with \n",
    "\n"
   ]
  },
  {
   "cell_type": "code",
   "execution_count": 1,
   "id": "24093453",
   "metadata": {},
   "outputs": [],
   "source": [
    "import miceforest as mf\n",
    "import pandas as pd\n",
    "import numpy as np\n",
    "\n",
    "data = pd.read_excel(r\"C:\\存活分析報告\\新增資料夾\\survUIS.xls\")\n"
   ]
  },
  {
   "cell_type": "code",
   "execution_count": 2,
   "id": "73a41490",
   "metadata": {},
   "outputs": [
    {
     "name": "stdout",
     "output_type": "stream",
     "text": [
      "<class 'pandas.core.frame.DataFrame'>\n",
      "RangeIndex: 628 entries, 0 to 627\n",
      "Data columns (total 12 columns):\n",
      " #   Column  Non-Null Count  Dtype \n",
      "---  ------  --------------  ----- \n",
      " 0   id      628 non-null    int64 \n",
      " 1   age     628 non-null    object\n",
      " 2   beck    628 non-null    object\n",
      " 3   hercoc  628 non-null    object\n",
      " 4   ivhx    628 non-null    object\n",
      " 5   ndrug   628 non-null    object\n",
      " 6   race    628 non-null    object\n",
      " 7   treat   628 non-null    int64 \n",
      " 8   site    628 non-null    int64 \n",
      " 9   txtime  628 non-null    int64 \n",
      " 10  time    628 non-null    int64 \n",
      " 11  status  628 non-null    int64 \n",
      "dtypes: int64(6), object(6)\n",
      "memory usage: 59.0+ KB\n"
     ]
    },
    {
     "name": "stderr",
     "output_type": "stream",
     "text": [
      "C:\\Users\\ruizhong\\AppData\\Local\\Temp\\ipykernel_8012\\3611839067.py:3: FutureWarning: Downcasting behavior in `replace` is deprecated and will be removed in a future version. To retain the old behavior, explicitly call `result.infer_objects(copy=False)`. To opt-in to the future behavior, set `pd.set_option('future.no_silent_downcasting', True)`\n",
      "  data = data.replace('.', np.nan)\n"
     ]
    },
    {
     "data": {
      "text/plain": [
       "53"
      ]
     },
     "execution_count": 2,
     "metadata": {},
     "output_type": "execute_result"
    }
   ],
   "source": [
    "data.info()\n",
    "\n",
    "data = data.replace('.', np.nan)\n",
    "\n",
    "\n",
    "len(data[data.isna().any(axis=1)])\n",
    "\n"
   ]
  },
  {
   "cell_type": "code",
   "execution_count": 100,
   "id": "00d8ae39",
   "metadata": {},
   "outputs": [],
   "source": [
    "import pandas as pd \n",
    "\n",
    "data = pd.read_excel(r\"C:\\存活分析報告\\新增資料夾\\survUIS.xls\")"
   ]
  },
  {
   "cell_type": "code",
   "execution_count": 102,
   "id": "2264e18d",
   "metadata": {},
   "outputs": [
    {
     "name": "stdout",
     "output_type": "stream",
     "text": [
      "<class 'pandas.core.frame.DataFrame'>\n",
      "RangeIndex: 628 entries, 0 to 627\n",
      "Data columns (total 12 columns):\n",
      " #   Column  Non-Null Count  Dtype  \n",
      "---  ------  --------------  -----  \n",
      " 0   id      628 non-null    int64  \n",
      " 1   age     623 non-null    float64\n",
      " 2   beck    595 non-null    float64\n",
      " 3   hercoc  610 non-null    object \n",
      " 4   ivhx    610 non-null    object \n",
      " 5   ndrug   611 non-null    float64\n",
      " 6   race    622 non-null    object \n",
      " 7   treat   628 non-null    object \n",
      " 8   site    628 non-null    object \n",
      " 9   txtime  628 non-null    float64\n",
      " 10  time    628 non-null    float64\n",
      " 11  status  628 non-null    object \n",
      "dtypes: float64(5), int64(1), object(6)\n",
      "memory usage: 59.0+ KB\n",
      "<class 'pandas.core.frame.DataFrame'>\n",
      "RangeIndex: 628 entries, 0 to 627\n",
      "Data columns (total 12 columns):\n",
      " #   Column  Non-Null Count  Dtype  \n",
      "---  ------  --------------  -----  \n",
      " 0   id      628 non-null    int64  \n",
      " 1   age     623 non-null    float64\n",
      " 2   beck    595 non-null    float64\n",
      " 3   hercoc  610 non-null    object \n",
      " 4   ivhx    610 non-null    object \n",
      " 5   ndrug   611 non-null    float64\n",
      " 6   race    622 non-null    object \n",
      " 7   treat   628 non-null    object \n",
      " 8   site    628 non-null    object \n",
      " 9   txtime  628 non-null    float64\n",
      " 10  time    628 non-null    float64\n",
      " 11  status  628 non-null    object \n",
      "dtypes: float64(5), int64(1), object(6)\n",
      "memory usage: 59.0+ KB\n"
     ]
    }
   ],
   "source": [
    "import numpy as np\n",
    "\n",
    "data.info()\n",
    "data = data.replace('.', np.nan)\n",
    "data[['hercoc','ivhx','race','treat','site','status']] = data[['hercoc','ivhx','race','treat','site','status']].astype('object')\n",
    "data[['age','beck','ndrug','txtime','time']] = data[['age','beck','ndrug','txtime','time']].astype('float')\n",
    "\n",
    "data.info()\n"
   ]
  },
  {
   "cell_type": "code",
   "execution_count": null,
   "id": "0a91a025",
   "metadata": {},
   "outputs": [],
   "source": [
    "# Create a copy to preserve original data\n",
    "data_imputed = data.copy()\n",
    "\n",
    "# Mode imputation for categorical variables\n",
    "categorical_cols = ['hercoc', 'ivhx', 'race', 'treat', 'site', 'status']\n",
    "for col in categorical_cols:\n",
    "    mode_value = data_imputed[col].mode()[0]  # Get the first mode\n",
    "    data_imputed[col].fillna(mode_value, inplace=True)\n",
    "    print(f\"Mode for {col}: {mode_value}\")\n",
    "\n",
    "# Median imputation for numerical variables\n",
    "numerical_cols = ['age', 'beck', 'ndrug', 'txtime', 'time']\n",
    "for col in numerical_cols:\n",
    "    median_value = data_imputed[col].median()\n",
    "    data_imputed[col].fillna(median_value, inplace=True)\n",
    "    print(f\"Median for {col}: {median_value}\")\n",
    "\n",
    "# Verify no missing values remain\n",
    "print(\"\\nMissing values after imputation:\")\n",
    "print(data_imputed.isna().sum())"
   ]
  },
  {
   "cell_type": "code",
   "execution_count": 5,
   "id": "a884d7ad",
   "metadata": {},
   "outputs": [],
   "source": [
    "data_imputed.to_excel(r\"C:\\存活分析報告\\新增資料夾\\survUIS_imputed_median_mode.xlsx\", index=False)"
   ]
  },
  {
   "cell_type": "code",
   "execution_count": 8,
   "id": "a071f111",
   "metadata": {},
   "outputs": [],
   "source": [
    "data = data_imputed.copy()"
   ]
  },
  {
   "cell_type": "markdown",
   "id": "d4977d66",
   "metadata": {},
   "source": [
    ". smote"
   ]
  },
  {
   "cell_type": "code",
   "execution_count": 9,
   "id": "7fbde86e",
   "metadata": {},
   "outputs": [],
   "source": [
    "from imblearn.over_sampling import SMOTE\n",
    "\n",
    "X = data[['ndrug','age','txtime','hercoc','beck','ivhx','race','treat','site']]\n",
    "y = data[['status']].astype('category')\n",
    "\n",
    "smote=SMOTE(sampling_strategy='minority',random_state=42) \n",
    "X_smote, y_smote = smote.fit_resample(X, y)\n",
    "\n",
    "X_smote = pd.DataFrame(X_smote, columns=X.columns)\n",
    "\n",
    "dataframe = X_smote.join(y_smote)\n",
    "dataframe.to_excel(r\"C:\\存活分析報告\\新增資料夾\\survUIS_smote_imputate_median.xlsx\", index=False)\n"
   ]
  },
  {
   "cell_type": "markdown",
   "id": "e7b414a8",
   "metadata": {},
   "source": [
    ". undersampling"
   ]
  },
  {
   "cell_type": "code",
   "execution_count": 10,
   "id": "e7f76785",
   "metadata": {},
   "outputs": [],
   "source": [
    "from imblearn.under_sampling import RandomUnderSampler\n",
    "\n",
    "X = data[['ndrug','age','txtime','hercoc','beck','ivhx','race','treat','site']]\n",
    "y = data[['status']].astype('category')\n",
    "\n",
    "undersample = RandomUnderSampler(sampling_strategy='majority',random_state=42)\n",
    "\n",
    "X_under, y_under = undersample.fit_resample(X, y)\n",
    "\n",
    "X_under = pd.DataFrame(X_under, columns=X.columns)\n",
    "\n",
    "dataframe = X_under.join(y_under)\n",
    "dataframe.to_excel(r\"C:\\存活分析報告\\新增資料夾\\survUIS_underampled_imputate_median.xlsx\", index=False)\n"
   ]
  },
  {
   "cell_type": "markdown",
   "id": "e55fabfd",
   "metadata": {},
   "source": [
    ". oversampling"
   ]
  },
  {
   "cell_type": "code",
   "execution_count": 11,
   "id": "b68709a9",
   "metadata": {},
   "outputs": [],
   "source": [
    "from imblearn.over_sampling import RandomOverSampler\n",
    "\n",
    "X = data[['ndrug','age','txtime','hercoc','beck','ivhx','race','treat','site']]\n",
    "\n",
    "y = data[['status']].astype('category')\n",
    "\n",
    "ros = RandomOverSampler(random_state=42)\n",
    "X_resampled, y_resampled = ros.fit_resample(X, y)\n",
    "\n",
    "X_resampled = pd.DataFrame(X_resampled, columns=X.columns)\n",
    "\n",
    "dataframe = X_resampled.join(y_resampled)\n",
    "\n",
    "dataframe.to_excel(r\"C:\\存活分析報告\\新增資料夾\\survUIS_oversampled_imputate_median.xlsx\", index=False)\n",
    "\n",
    "\n"
   ]
  },
  {
   "cell_type": "code",
   "execution_count": null,
   "id": "3b64c9e4",
   "metadata": {},
   "outputs": [],
   "source": [
    "from imblearn.over_sampling import ADASYN\n",
    "\n",
    "ada = ADASYN(sampling_strategy='minority',random_state=42)\n",
    "X = data[['ndrug','age','txtime','hercoc','beck','ivhx','race','treat','site']]\n",
    "\n",
    "y = data[['status']].astype('category')  \n",
    "X_ada, y_ada = ada.fit_resample(X, y)\n",
    "\n",
    "X_ada = pd.DataFrame(X_ada, columns=X.columns)\n",
    "\n",
    "dataframe = X_ada.join(y_ada)\n",
    "dataframe.to_excel(r\"C:\\存活分析報告\\新增資料夾\\survUIS_ADASYN_imputate_median.xlsx\", index=False)\n",
    "\n",
    "\n",
    "\n"
   ]
  }
 ],
 "metadata": {
  "kernelspec": {
   "display_name": "myenv",
   "language": "python",
   "name": "python3"
  },
  "language_info": {
   "codemirror_mode": {
    "name": "ipython",
    "version": 3
   },
   "file_extension": ".py",
   "mimetype": "text/x-python",
   "name": "python",
   "nbconvert_exporter": "python",
   "pygments_lexer": "ipython3",
   "version": "3.12.5"
  }
 },
 "nbformat": 4,
 "nbformat_minor": 5
}
